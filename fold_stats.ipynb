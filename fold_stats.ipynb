{
 "cells": [
  {
   "cell_type": "code",
   "execution_count": 1,
   "id": "c03bbc1b",
   "metadata": {},
   "outputs": [],
   "source": [
    "import pandas as pd"
   ]
  },
  {
   "cell_type": "code",
   "execution_count": 15,
   "id": "c9a759a0",
   "metadata": {},
   "outputs": [],
   "source": [
    "import requests\n",
    "import json\n",
    "import pandas as pd\n",
    "from urllib3.exceptions import InsecureRequestWarning\n",
    "from urllib3 import disable_warnings\n",
    "import pandas as pd\n",
    "import matplotlib\n",
    "import matplotlib.pyplot as plt\n",
    "import re\n",
    "import openpyxl\n",
    "from openpyxl import Workbook\n",
    "from openpyxl import load_workbook\n",
    "\n",
    "disable_warnings(InsecureRequestWarning)\n",
    "\n",
    "base_url = \"https://viperdb.scripps.edu\"\n",
    "\n",
    "all_tnums_url = \"/services/tnumber_index.php?serviceName=tnumbers\"\n",
    "all_genuses_url = \"/services/genus_index.php?serviceName=genus\"\n",
    "all_families_url = \"/services/family_index.php?serviceName=families\"\n",
    "\n",
    "tnum_members_url = \"/services/tnumber_index.php?serviceName=tnumber_members&tnumber=\"\n",
    "genus_members_url = \"/services/genus_index.php?serviceName=genus_members&genus=\"\n",
    "family_members_url = \"/services/family_index.php?serviceName=family_members&family=\"\n",
    "\n",
    "rcsb_url = 'https://data.rcsb.org/rest/v1/core/entry/'\n",
    "vdb_url = \"https://viperdb.scripps.edu/\"\n",
    "radius_url = \"services/biodata.php?serviceName=radius_formatted&VDB=\"\n",
    "\n",
    "def getrcsb(c):\n",
    "    res = requests.get(rcsb_url + c, verify=False)\n",
    "    return res\n",
    "def getrad(c):\n",
    "    res = requests.get(vdb_url + radius_url + c, verify=False)\n",
    "    return res\n",
    "\n",
    "def tnum_url(n):\n",
    "    return base_url + tnum_members_url + str(n)\n",
    "def genus_url(n):\n",
    "    return base_url + genus_members_url + str(n)\n",
    "def family_url(n):\n",
    "    return base_url + family_members_url + str(n)\n",
    "\n",
    "#sort list of dictionaries by resolution and take the n lowest\n",
    "def lowres_dictlist(dictlist, n):\n",
    "    lowres = {}\n",
    "    for k in dictlist.keys():\n",
    "        sortres = sorted(dictlist[k], key=lambda d: (d['resolution'] is None, d['resolution']))\n",
    "        lowres[k] = sortres[:n]\n",
    "    return lowres\n",
    "def dictlist(dictlist):\n",
    "    res = {}\n",
    "    for k in dictlist.keys():\n",
    "        sortres = sorted(dictlist[k], key=lambda d: (d['resolution'] is None, d['resolution']))\n",
    "        res[k] = sortres\n",
    "    return res\n",
    "families_res = requests.get((base_url + all_families_url), verify=False)\n",
    "families = json.loads(families_res.text)"
   ]
  },
  {
   "cell_type": "code",
   "execution_count": 2,
   "id": "b9f46b4c",
   "metadata": {},
   "outputs": [],
   "source": [
    "file_url = 'families.xlsx'\n",
    "fam_xl = pd.ExcelFile(file_url)"
   ]
  },
  {
   "cell_type": "code",
   "execution_count": 17,
   "id": "19b08729",
   "metadata": {},
   "outputs": [],
   "source": [
    "#get families containing each FSF\n",
    "file_url = 't2.txt'\n",
    "fsf_families = {}\n",
    "with open(file_url, 'r') as f:\n",
    "    lines = f.readlines()\n",
    "    for l in lines:\n",
    "        l = l.split()\n",
    "        fams = [x.replace(',', '') for x in l[1:]]\n",
    "        fsf_families[l[0]] = fams \n",
    "folds = list(fsf_families.keys())"
   ]
  },
  {
   "cell_type": "code",
   "execution_count": 29,
   "id": "de740424",
   "metadata": {},
   "outputs": [
    {
     "name": "stdout",
     "output_type": "stream",
     "text": [
      "Worksheet named 'Orthomyxoviridae' not found\n",
      "Worksheet named 'Coronaviridae' not found\n",
      "Worksheet named 'Caudovirales' not found\n",
      "Worksheet named 'Ophioviridae' not found\n",
      "Worksheet named 'Poleomaviridae' not found\n",
      "Worksheet named 'Ascoviridae' not found\n",
      "Worksheet named 'Asfarviridae' not found\n",
      "Worksheet named 'Iridoviridae' not found\n",
      "Worksheet named 'Marsielleviridae' not found\n",
      "Worksheet named 'Mimiviridae' not found\n",
      "Worksheet named 'Inoviridae' not found\n",
      "Worksheet named 'Inoviridae' not found\n",
      "Worksheet named 'Arteriviridae' not found\n",
      "Worksheet named 'Coronaviridae' not found\n",
      "Worksheet named 'Benyviridae' not found\n",
      "Worksheet named 'Potyviridae' not found\n",
      "Worksheet named 'Virgaviridae' not found\n"
     ]
    }
   ],
   "source": [
    "non_tone = {}\n",
    "dfs = []\n",
    "for k, v in fsf_families.items():\n",
    "    df_dict = {}\n",
    "    for f in v:\n",
    "        try:\n",
    "            sheet = fam_xl.parse(f)\n",
    "            tnums = sheet['tnumber']\n",
    "            pdb_ids = sheet['id']\n",
    "            nont1_ids = [pdb_ids[i] for i in list(range(len(tnums))) if tnums[i] != '1']\n",
    "            df_dict[f] = nont1_ids\n",
    "        except Exception as e:\n",
    "            print(e)\n",
    "    try:\n",
    "        df = pd.DataFrame.from_dict(df_dict, orient='index')\n",
    "        df = df.transpose()\n",
    "        dfs.append(df)\n",
    "    except Exception as e:\n",
    "            print(e)"
   ]
  },
  {
   "cell_type": "code",
   "execution_count": 30,
   "id": "e1ade980",
   "metadata": {},
   "outputs": [
    {
     "data": {
      "text/plain": [
       "23"
      ]
     },
     "execution_count": 30,
     "metadata": {},
     "output_type": "execute_result"
    }
   ],
   "source": [
    "len(dfs)"
   ]
  },
  {
   "cell_type": "code",
   "execution_count": 31,
   "id": "3de3df44",
   "metadata": {},
   "outputs": [],
   "source": [
    "xl_file = 'non_t_one.xlsx'\n",
    "wb = Workbook()\n",
    "ws =  wb.active\n",
    "wb.save(filename = xl_file)\n",
    "\n",
    "book = load_workbook(xl_file)\n",
    "writer = pd.ExcelWriter(xl_file, engine = 'openpyxl')\n",
    "writer.book = book\n",
    "for i, df in enumerate(dfs):\n",
    "    fold = folds[i]\n",
    "    \n",
    "    df.to_excel(writer, sheet_name = fold, index = False)\n",
    "del book['Sheet']\n",
    "book.save(xl_file)"
   ]
  }
 ],
 "metadata": {
  "kernelspec": {
   "display_name": "Python 3 (ipykernel)",
   "language": "python",
   "name": "python3"
  },
  "language_info": {
   "codemirror_mode": {
    "name": "ipython",
    "version": 3
   },
   "file_extension": ".py",
   "mimetype": "text/x-python",
   "name": "python",
   "nbconvert_exporter": "python",
   "pygments_lexer": "ipython3",
   "version": "3.9.7"
  }
 },
 "nbformat": 4,
 "nbformat_minor": 5
}
