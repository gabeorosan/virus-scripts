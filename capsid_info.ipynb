{
 "cells": [
  {
   "cell_type": "code",
   "execution_count": 82,
   "id": "83615f0c",
   "metadata": {},
   "outputs": [],
   "source": [
    "import requests\n",
    "import re\n",
    "rcsb_url = 'https://data.rcsb.org/rest/v1/core/entry/'\n",
    "vdb_url = \"https://viperdb.scripps.edu/\"\n",
    "radius_url = \"services/biodata.php?serviceName=radius_formatted&VDB=\"\n",
    "\n",
    "from urllib3.exceptions import InsecureRequestWarning\n",
    "from urllib3 import disable_warnings\n",
    "\n",
    "disable_warnings(InsecureRequestWarning)\n",
    "\n",
    "def getrcsb(c):\n",
    "    res = requests.get(rcsb_url + '2ms2', verify=False)\n",
    "    return res\n",
    "def getrad(c):\n",
    "    res = requests.get(vdb_base + radius_url + '2ms2', verify=False)\n",
    "    return res\n",
    "\n",
    "capsid = '2ms2'"
   ]
  },
  {
   "cell_type": "code",
   "execution_count": 83,
   "id": "40acf8cc",
   "metadata": {
    "scrolled": true
   },
   "outputs": [],
   "source": [
    "rcsb_res = getrcsb(capsid)\n",
    "\n",
    "resdict = eval(rcsb_res._content.decode())\n",
    "\n",
    "weight = resdict['rcsb_entry_info']['molecular_weight']\n",
    "\n",
    "atoms = resdict['rcsb_entry_info'][ 'deposited_atom_count']\n",
    "\n",
    "mers = resdict['rcsb_entry_info']['deposited_polymer_monomer_count']\n",
    "\n",
    "macros = resdict['rcsb_entry_info']['selected_polymer_entity_types']\n",
    "\n",
    "polymer_max = resdict['rcsb_entry_info']['polymer_molecular_weight_maximum']\n",
    "\n",
    "polymer_min = resdict['rcsb_entry_info']['polymer_molecular_weight_minimum']"
   ]
  },
  {
   "cell_type": "code",
   "execution_count": 84,
   "id": "00fc5683",
   "metadata": {},
   "outputs": [],
   "source": [
    "#get avg radius\n",
    "vdb_res = getrad(capsid)\n",
    "pres = vdb_res._content.decode().split('Ave')[-1].split(': ')[1]\n",
    "\n",
    "rad = re.split(r'\\D+',pres)[0]"
   ]
  }
 ],
 "metadata": {
  "kernelspec": {
   "display_name": "Python 3 (ipykernel)",
   "language": "python",
   "name": "python3"
  },
  "language_info": {
   "codemirror_mode": {
    "name": "ipython",
    "version": 3
   },
   "file_extension": ".py",
   "mimetype": "text/x-python",
   "name": "python",
   "nbconvert_exporter": "python",
   "pygments_lexer": "ipython3",
   "version": "3.9.7"
  }
 },
 "nbformat": 4,
 "nbformat_minor": 5
}
