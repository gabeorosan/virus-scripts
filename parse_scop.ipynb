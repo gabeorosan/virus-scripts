{
 "cells": [
  {
   "cell_type": "code",
   "execution_count": 126,
   "id": "72b01300",
   "metadata": {},
   "outputs": [],
   "source": [
    "scop_url = 'scop.txt'\n",
    "ids = []\n",
    "folds = []\n",
    "with open(scop_url, 'r') as f:\n",
    "    for line in f:\n",
    "        l = line.split(' ')\n",
    "        pdb_id = l[1]\n",
    "        ids.append(pdb_id)\n",
    "        fold = l[-1].split('CF=')[-1].split(',SF')[0]\n",
    "        folds.append(fold)\n",
    "\n",
    "file_url = 'scop.txt'\n",
    "with open('scop.txt', 'r') as f:\n",
    "    id_dict = {l.split(' ')[1]:l.split(' ')[-1].split('CF=')[-1].split(',SF')[0] for l in f if l[0] != '#'}\n",
    "\n",
    "pdb_ids = list(id_dict.keys())\n",
    "folds = list(id_dict.values())"
   ]
  },
  {
   "cell_type": "code",
   "execution_count": 100,
   "id": "f37e6aaf",
   "metadata": {},
   "outputs": [],
   "source": [
    "import pandas as pd\n",
    "\n",
    "def countlist(l):\n",
    "    counts = dict()\n",
    "    for i in l:\n",
    "        counts[i] = counts.get(i, 0) + 1\n",
    "    return counts\n",
    "def getsheet(xl, n):\n",
    "    return xl.parse(xl.sheet_names[n])\n",
    "\n",
    "#use to get a list of all the values in a columns across ALL sheets\n",
    "def getcol(xl, c):\n",
    "    clist = []\n",
    "    for s in xl.sheet_names:\n",
    "        try:\n",
    "            clist.extend(xl.parse(s)[c])\n",
    "        except Exception as e:\n",
    "            print(e)\n",
    "    return clist\n",
    "\n",
    "fam_url = 'families.xlsx'\n",
    "fam_xl = pd.ExcelFile(fam_url)"
   ]
  },
  {
   "cell_type": "code",
   "execution_count": 104,
   "id": "f5504def",
   "metadata": {},
   "outputs": [],
   "source": [
    "fam_ids = getcol(fam_xl, 'id')\n",
    "vdict= {i:id_dict[i.upper()] for i in fam_ids if i.upper() in pdb_ids}\n",
    "des_file = 'scop-des.txt'\n",
    "with open(des_file, 'r') as f:\n",
    "    des_dict = {l.split(' ')[0]: l.split(' ')[1] for l in f if l[0]!='#'}\n",
    "\n",
    "v_des = {k:des_dict[v] for k, v in vdict.items()}\n",
    "countlist(v_des.values())"
   ]
  }
 ],
 "metadata": {
  "kernelspec": {
   "display_name": "Python 3 (ipykernel)",
   "language": "python",
   "name": "python3"
  },
  "language_info": {
   "codemirror_mode": {
    "name": "ipython",
    "version": 3
   },
   "file_extension": ".py",
   "mimetype": "text/x-python",
   "name": "python",
   "nbconvert_exporter": "python",
   "pygments_lexer": "ipython3",
   "version": "3.9.7"
  }
 },
 "nbformat": 4,
 "nbformat_minor": 5
}
